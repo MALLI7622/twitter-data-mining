{
 "cells": [
  {
   "cell_type": "markdown",
   "metadata": {},
   "source": [
    "## Problem 1"
   ]
  },
  {
   "cell_type": "code",
   "execution_count": 5,
   "metadata": {},
   "outputs": [],
   "source": [
    "def odd_numbers(X, Y):\n",
    "    \n",
    "    result = []\n",
    "    for i in range(X, Y+1):\n",
    "        if i == X or i == Y:\n",
    "            result.append(i)\n",
    "        elif i%2 != 0:\n",
    "            result.append(i)\n",
    "            \n",
    "    print(result)"
   ]
  },
  {
   "cell_type": "code",
   "execution_count": 8,
   "metadata": {},
   "outputs": [
    {
     "name": "stdout",
     "output_type": "stream",
     "text": [
      "[1, 3, 5, 7, 9, 11, 13, 15, 17, 19, 21, 23, 25, 27, 29, 31, 33, 35, 37, 39, 41, 43, 45, 47, 49, 51, 53, 55, 57, 59, 61, 63, 65, 67, 69, 71, 73, 75, 77, 79, 81, 83, 85, 87, 89, 91, 93, 95, 97, 99, 101, 103, 105, 107, 109, 111, 112]\n"
     ]
    }
   ],
   "source": [
    "odd_numbers(1, 112)"
   ]
  },
  {
   "cell_type": "markdown",
   "metadata": {},
   "source": [
    "## Problem 2"
   ]
  },
  {
   "cell_type": "code",
   "execution_count": 71,
   "metadata": {},
   "outputs": [],
   "source": [
    "import string\n",
    "def password_validate(password):\n",
    "    \n",
    "    lower_case = list(string.ascii_lowercase)\n",
    "    upper_case = list(string.ascii_uppercase)\n",
    "    numbers = list(str(i) for i in range(0,10))\n",
    "    special = ['$', '#', '@']\n",
    "    characters = [list(string.ascii_lowercase), list(string.ascii_uppercase), \n",
    "                 list(str(i) for i in range(0,10)), ['$', '#', '@']]\n",
    "    \n",
    "    characters = list(itertools.chain(*characters))\n",
    "    #print(\"cha\")\n",
    "    #print(characters)\n",
    "    count = 0\n",
    "    \n",
    "    for i in password:\n",
    "        \n",
    "        if i in characters:\n",
    "            count += 1\n",
    "    if len(password) > 12:\n",
    "        print(\"Invalid password, Maximum length of password is 12\")\n",
    "    elif len(password) < 6:\n",
    "        print(\"Invalid password, Minimum length of password is 6\")\n",
    "    \n",
    "     \n",
    "    elif count == len(password):\n",
    "        print(\"Password Validated\")\n",
    "    else:\n",
    "        print(\"Password Invalid\")"
   ]
  },
  {
   "cell_type": "code",
   "execution_count": 72,
   "metadata": {},
   "outputs": [
    {
     "name": "stdout",
     "output_type": "stream",
     "text": [
      "Enter password: Tom@97\n",
      "Password Validated\n"
     ]
    }
   ],
   "source": [
    "password_validate(input(\"Enter password: \"))"
   ]
  },
  {
   "cell_type": "markdown",
   "metadata": {},
   "source": [
    "## Problem 3"
   ]
  },
  {
   "cell_type": "code",
   "execution_count": 73,
   "metadata": {},
   "outputs": [],
   "source": [
    "def word_frequency(word):\n",
    "    \n",
    "    frequency = {}\n",
    "    for i in word:\n",
    "\n",
    "        if i in frequency:\n",
    "            frequency[i] += 1\n",
    "        else:\n",
    "            frequency[i] = 1\n",
    "            \n",
    "    print(\"frequency of words: \", frequency)"
   ]
  },
  {
   "cell_type": "code",
   "execution_count": 74,
   "metadata": {},
   "outputs": [
    {
     "name": "stdout",
     "output_type": "stream",
     "text": [
      "Enter wordMallikarjuna\n",
      "frequency of words:  {'M': 1, 'a': 3, 'l': 2, 'i': 1, 'k': 1, 'r': 1, 'j': 1, 'u': 1, 'n': 1}\n"
     ]
    }
   ],
   "source": [
    "word_frequency(input(\"Enter word\"))"
   ]
  },
  {
   "cell_type": "markdown",
   "metadata": {},
   "source": [
    "## Problem 3"
   ]
  },
  {
   "cell_type": "code",
   "execution_count": 81,
   "metadata": {},
   "outputs": [],
   "source": [
    "def validate_driver(speed):\n",
    "    \n",
    "    demerit_point = 1\n",
    "    \n",
    "    if speed <= 70:\n",
    "        \n",
    "        print(\"Driver was maintaining permissiable level of speed\")\n",
    "    else:\n",
    "        print(\"Points:\", int((speed - 70) / 10) * 2)\n",
    "        if int((speed - 70) / 10) * 2 > 12:\n",
    "            print(\"License suspended\")"
   ]
  },
  {
   "cell_type": "code",
   "execution_count": 85,
   "metadata": {},
   "outputs": [
    {
     "name": "stdout",
     "output_type": "stream",
     "text": [
      "Enter Speed150\n",
      "Points: 16\n",
      "License suspended\n"
     ]
    }
   ],
   "source": [
    "validate_driver(int(input(\"Enter Speed\")))"
   ]
  },
  {
   "cell_type": "code",
   "execution_count": null,
   "metadata": {},
   "outputs": [],
   "source": []
  },
  {
   "cell_type": "code",
   "execution_count": null,
   "metadata": {},
   "outputs": [],
   "source": []
  },
  {
   "cell_type": "code",
   "execution_count": null,
   "metadata": {},
   "outputs": [],
   "source": []
  }
 ],
 "metadata": {
  "kernelspec": {
   "display_name": "Python 3",
   "language": "python",
   "name": "python3"
  },
  "language_info": {
   "codemirror_mode": {
    "name": "ipython",
    "version": 3
   },
   "file_extension": ".py",
   "mimetype": "text/x-python",
   "name": "python",
   "nbconvert_exporter": "python",
   "pygments_lexer": "ipython3",
   "version": "3.7.4"
  }
 },
 "nbformat": 4,
 "nbformat_minor": 2
}
